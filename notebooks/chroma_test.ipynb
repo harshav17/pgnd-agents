{
 "cells": [
  {
   "cell_type": "code",
   "execution_count": 1,
   "metadata": {},
   "outputs": [],
   "source": [
    "from dotenv import load_dotenv\n",
    "import os\n",
    "load_dotenv()\n",
    "api_key = os.getenv('OPENAI_API_KEY')"
   ]
  },
  {
   "cell_type": "code",
   "execution_count": 2,
   "metadata": {},
   "outputs": [],
   "source": [
    "from utils import setup_project_path\n",
    "setup_project_path()"
   ]
  },
  {
   "cell_type": "code",
   "execution_count": 3,
   "metadata": {},
   "outputs": [],
   "source": [
    "from src.core.utils.db_handler import ChromaDBHandler\n",
    "client = ChromaDBHandler.get_client()"
   ]
  },
  {
   "cell_type": "code",
   "execution_count": 4,
   "metadata": {},
   "outputs": [
    {
     "name": "stdout",
     "output_type": "stream",
     "text": [
      "Not Found\n"
     ]
    }
   ],
   "source": [
    "try:\n",
    "    client.delete_collection(name=\"my_collection\")\n",
    "except ValueError:\n",
    "    print(\"Not Found\")"
   ]
  },
  {
   "cell_type": "code",
   "execution_count": 5,
   "metadata": {},
   "outputs": [],
   "source": [
    "\n",
    "collection = client.create_collection(\n",
    "    name=\"my_collection\",\n",
    "    embedding_function=ChromaDBHandler.get_embedding_function(key=api_key))\n",
    "collection.add(\n",
    "    documents=[\n",
    "        \"This is a document about pineapple\",\n",
    "        \"This is a document about oranges\"\n",
    "    ],\n",
    "    ids=[\"id1\", \"id2\"]\n",
    ")"
   ]
  },
  {
   "cell_type": "code",
   "execution_count": null,
   "metadata": {},
   "outputs": [
    {
     "name": "stdout",
     "output_type": "stream",
     "text": [
      "{'data': None,\n",
      " 'distances': [[0.9091700084666493]],\n",
      " 'documents': [['This is a document about pineapple']],\n",
      " 'embeddings': None,\n",
      " 'ids': [['id1']],\n",
      " 'included': [<IncludeEnum.distances: 'distances'>,\n",
      "              <IncludeEnum.documents: 'documents'>,\n",
      "              <IncludeEnum.metadatas: 'metadatas'>],\n",
      " 'metadatas': [[None]],\n",
      " 'uris': None}\n"
     ]
    }
   ],
   "source": [
    "from pprint import pprint\n",
    "results = collection.query(\n",
    "    query_texts=[\"This is a query document about hawaii\"], # Chroma will embed this for you\n",
    "    n_results=1 # how many results to return\n",
    ")\n",
    "pprint(results)"
   ]
  },
  {
   "cell_type": "code",
   "execution_count": 9,
   "metadata": {},
   "outputs": [
    {
     "name": "stdout",
     "output_type": "stream",
     "text": [
      "[array([-0.00458738,  0.01472407,  0.06056315, ..., -0.00333028,\n",
      "       -0.01683545, -0.01104305], shape=(1536,), dtype=float32)]\n"
     ]
    }
   ],
   "source": [
    "oa_ef = ChromaDBHandler.get_embedding_function(key=api_key)\n",
    "query_embs = oa_ef([\"This is a query document about hawaii\"])\n",
    "pprint(query_embs)"
   ]
  },
  {
   "cell_type": "code",
   "execution_count": 11,
   "metadata": {},
   "outputs": [
    {
     "name": "stdout",
     "output_type": "stream",
     "text": [
      "{'data': None,\n",
      " 'distances': [[0.9091700084666493]],\n",
      " 'documents': [['This is a document about pineapple']],\n",
      " 'embeddings': None,\n",
      " 'ids': [['id1']],\n",
      " 'included': [<IncludeEnum.distances: 'distances'>,\n",
      "              <IncludeEnum.documents: 'documents'>,\n",
      "              <IncludeEnum.metadatas: 'metadatas'>],\n",
      " 'metadatas': [[None]],\n",
      " 'uris': None}\n"
     ]
    }
   ],
   "source": [
    "results = collection.query(query_embeddings=query_embs, n_results=1)\n",
    "pprint(results)"
   ]
  }
 ],
 "metadata": {
  "language_info": {
   "name": "python"
  }
 },
 "nbformat": 4,
 "nbformat_minor": 2
}
